{
 "cells": [
  {
   "cell_type": "markdown",
   "id": "9233e64e",
   "metadata": {},
   "source": [
    "# My Jupyter Notebook on IBM Watson Studio"
   ]
  },
  {
   "cell_type": "markdown",
   "id": "b5eed39b",
   "metadata": {},
   "source": [
    "**Lynn Lukins**\n",
    "<br>Senior People Analytics Consultant"
   ]
  },
  {
   "cell_type": "markdown",
   "id": "1ac28380",
   "metadata": {},
   "source": [
    "*I am interested in data science because I think it's a lot of fun and extremely useful for me.  In my area (human resources), we use survey and profile data to understand the greatest predictors of retention and identify groups who may leave us.* "
   ]
  },
  {
   "cell_type": "markdown",
   "id": "2ace0571",
   "metadata": {},
   "source": [
    "### My code in the next line supposed to add 1 and 1, and the answer should be 2"
   ]
  },
  {
   "cell_type": "code",
   "execution_count": 2,
   "id": "cae69580",
   "metadata": {},
   "outputs": [
    {
     "data": {
      "text/plain": [
       "2"
      ]
     },
     "execution_count": 2,
     "metadata": {},
     "output_type": "execute_result"
    }
   ],
   "source": [
    "1+1"
   ]
  },
  {
   "cell_type": "markdown",
   "id": "79e82c49",
   "metadata": {},
   "source": [
    "#### My Favorite Flowers\n",
    "\n",
    "<hr style=\"border:1px solid gray\">\n",
    "\n",
    "  * Daisy\n",
    "  * Rose of Sharon\n",
    "  * Zinnia\n",
    "  * Dahlia\n",
    "  * Tall Phlox\n",
    "  * Dianthus\n",
    "  <br>\n",
    "  \n",
    "[Click here for a list of the 20 most popular flowers and their meanings.](https://thefloristguide.com/most-popular-flowers/)\n"
   ]
  },
  {
   "cell_type": "code",
   "execution_count": null,
   "id": "8cc20cb5",
   "metadata": {},
   "outputs": [],
   "source": []
  }
 ],
 "metadata": {
  "kernelspec": {
   "display_name": "Python 3 (ipykernel)",
   "language": "python",
   "name": "python3"
  },
  "language_info": {
   "codemirror_mode": {
    "name": "ipython",
    "version": 3
   },
   "file_extension": ".py",
   "mimetype": "text/x-python",
   "name": "python",
   "nbconvert_exporter": "python",
   "pygments_lexer": "ipython3",
   "version": "3.9.12"
  }
 },
 "nbformat": 4,
 "nbformat_minor": 5
}
